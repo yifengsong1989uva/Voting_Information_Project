{
 "cells": [
  {
   "cell_type": "code",
   "execution_count": 1,
   "metadata": {
    "collapsed": true
   },
   "outputs": [],
   "source": [
    "import os\n",
    "os.chdir('/home/composersyf/Documents/Google Civic Information API/WA Addresses/Second_Batch')"
   ]
  },
  {
   "cell_type": "code",
   "execution_count": 2,
   "metadata": {
    "collapsed": false
   },
   "outputs": [],
   "source": [
    "import glob\n",
    "county_list=glob.glob('*.csv')"
   ]
  },
  {
   "cell_type": "code",
   "execution_count": 3,
   "metadata": {
    "collapsed": true
   },
   "outputs": [],
   "source": [
    "import pandas as pd\n",
    "import numpy as np"
   ]
  },
  {
   "cell_type": "code",
   "execution_count": 4,
   "metadata": {
    "collapsed": true
   },
   "outputs": [],
   "source": [
    "def str_to_int(text):\n",
    "    try:\n",
    "        n=int(text)\n",
    "        return str(int(text))\n",
    "    except ValueError:\n",
    "        return None\n",
    "    \n",
    "def is_not_None(entry):\n",
    "    if entry is None:\n",
    "        return False\n",
    "    else:\n",
    "        return True\n",
    "\n",
    "def zipcode(code):\n",
    "    try:\n",
    "        s=int(str(code)[:5])\n",
    "        return str(code)[:5]\n",
    "    except ValueError:\n",
    "        return ''\n",
    "\n",
    "def generate_address(ndarr,county_name):\n",
    "    if ndarr[2]=='':\n",
    "        return np.hstack((ndarr[:2],[county_name,\"WA\"],ndarr[3]))\n",
    "    elif ndarr[3]=='':\n",
    "        return np.hstack((ndarr[:3],\"WA\"))\n",
    "    else:\n",
    "        return np.hstack((ndarr[:3],\"WA\",ndarr[3]))"
   ]
  },
  {
   "cell_type": "code",
   "execution_count": 8,
   "metadata": {
    "collapsed": false
   },
   "outputs": [
    {
     "name": "stderr",
     "output_type": "stream",
     "text": [
      "/home/composersyf/anaconda3/lib/python3.5/site-packages/ipykernel/__main__.py:6: SettingWithCopyWarning: \n",
      "A value is trying to be set on a copy of a slice from a DataFrame.\n",
      "Try using .loc[row_indexer,col_indexer] = value instead\n",
      "\n",
      "See the caveats in the documentation: http://pandas.pydata.org/pandas-docs/stable/indexing.html#indexing-view-versus-copy\n",
      "/home/composersyf/anaconda3/lib/python3.5/site-packages/ipykernel/__main__.py:9: SettingWithCopyWarning: \n",
      "A value is trying to be set on a copy of a slice from a DataFrame.\n",
      "Try using .loc[row_indexer,col_indexer] = value instead\n",
      "\n",
      "See the caveats in the documentation: http://pandas.pydata.org/pandas-docs/stable/indexing.html#indexing-view-versus-copy\n"
     ]
    }
   ],
   "source": [
    "sample_address_df=[]\n",
    "for county in county_list:\n",
    "    county_name=county[:-4]\n",
    "    first_df=pd.read_csv(county)\n",
    "    first_df_1=first_df[~pd.isnull(np.array(first_df.NUMBER)) & ~pd.isnull(np.array(first_df.STREET))]\n",
    "    first_df_1['NUMBER']=first_df_1['NUMBER'].apply(str_to_int)\n",
    "    first_df_2=first_df_1[np.array(first_df_1['NUMBER'].apply(is_not_None))]\n",
    "    first_df_3=first_df_2[['NUMBER','STREET','CITY','POSTCODE']]\n",
    "    first_df_3['POSTCODE']=first_df_3['POSTCODE'].apply(zipcode)\n",
    "    first_df_4=first_df_3[~np.array(pd.isnull(first_df_3['CITY'])) | ~np.array(first_df_3.POSTCODE=='')]\n",
    "    first_df_4=first_df_4.fillna('')\n",
    "    combined_address=[None]*first_df_4.shape[0]\n",
    "    for j in range(first_df_4.shape[0]):\n",
    "        address_arr=generate_address(np.array(first_df_4.iloc[j,:]),county_name)\n",
    "        combined_address[j]=\" \".join(address_arr)\n",
    "    address_sample=np.random.choice(combined_address,size=min(2500,len(combined_address)))\n",
    "    county_column=[county_name]*len(address_sample)\n",
    "    sample_address_df.append(pd.DataFrame({\"county\":county_column,\"address\":address_sample}))"
   ]
  },
  {
   "cell_type": "code",
   "execution_count": 135,
   "metadata": {
    "collapsed": false
   },
   "outputs": [],
   "source": [
    "final_df=pd.concat(sample_address_df,axis=0,join=\"outer\").reset_index([0]).drop('index',axis=1)"
   ]
  },
  {
   "cell_type": "code",
   "execution_count": 136,
   "metadata": {
    "collapsed": false
   },
   "outputs": [],
   "source": [
    "final_df.to_csv(\"../sample_WA_addresses.csv\",header=False,index=False)"
   ]
  },
  {
   "cell_type": "code",
   "execution_count": 14,
   "metadata": {
    "collapsed": false
   },
   "outputs": [],
   "source": [
    "checked_list=np.array(pd.read_csv(\"../../two_county_list.csv\",header=None).iloc[:,0])"
   ]
  },
  {
   "cell_type": "code",
   "execution_count": 18,
   "metadata": {
    "collapsed": false
   },
   "outputs": [],
   "source": [
    "row_index=[]\n",
    "for i,e in enumerate(np.array(sample_address_df[1].iloc[:,0])):\n",
    "    if e not in list(checked_list):\n",
    "        row_index.append(i)"
   ]
  },
  {
   "cell_type": "code",
   "execution_count": 20,
   "metadata": {
    "collapsed": false
   },
   "outputs": [
    {
     "data": {
      "text/plain": [
       "2453"
      ]
     },
     "execution_count": 20,
     "metadata": {},
     "output_type": "execute_result"
    }
   ],
   "source": [
    "len(row_index)"
   ]
  },
  {
   "cell_type": "code",
   "execution_count": 22,
   "metadata": {
    "collapsed": false
   },
   "outputs": [],
   "source": [
    "pend_oreille=sample_address_df[1].iloc[row_index,:]"
   ]
  },
  {
   "cell_type": "code",
   "execution_count": 23,
   "metadata": {
    "collapsed": true
   },
   "outputs": [],
   "source": [
    "row_index_2=[]\n",
    "for i,e in enumerate(np.array(sample_address_df[0].iloc[:,0])):\n",
    "    if e not in list(checked_list):\n",
    "        row_index_2.append(i)"
   ]
  },
  {
   "cell_type": "code",
   "execution_count": 25,
   "metadata": {
    "collapsed": false
   },
   "outputs": [
    {
     "data": {
      "text/plain": [
       "2463"
      ]
     },
     "execution_count": 25,
     "metadata": {},
     "output_type": "execute_result"
    }
   ],
   "source": [
    "len(row_index_2)"
   ]
  },
  {
   "cell_type": "code",
   "execution_count": 26,
   "metadata": {
    "collapsed": true
   },
   "outputs": [],
   "source": [
    "okanogan=sample_address_df[0].iloc[row_index_2,:]"
   ]
  },
  {
   "cell_type": "code",
   "execution_count": 28,
   "metadata": {
    "collapsed": false
   },
   "outputs": [],
   "source": [
    "random_row_index=np.random.choice(np.arange(okanogan.shape[0]),800)"
   ]
  },
  {
   "cell_type": "code",
   "execution_count": 30,
   "metadata": {
    "collapsed": false
   },
   "outputs": [],
   "source": [
    "okanogon=okanogan.iloc[random_row_index,:]"
   ]
  },
  {
   "cell_type": "code",
   "execution_count": 33,
   "metadata": {
    "collapsed": false
   },
   "outputs": [],
   "source": [
    "pd.concat([okanogon,pend_oreille],join='outer',axis=0).to_csv(\"sample_WA_addresses_4.csv\",header=False,index=False)"
   ]
  },
  {
   "cell_type": "code",
   "execution_count": null,
   "metadata": {
    "collapsed": true
   },
   "outputs": [],
   "source": []
  }
 ],
 "metadata": {
  "kernelspec": {
   "display_name": "Python 3",
   "language": "python",
   "name": "python3"
  },
  "language_info": {
   "codemirror_mode": {
    "name": "ipython",
    "version": 3
   },
   "file_extension": ".py",
   "mimetype": "text/x-python",
   "name": "python",
   "nbconvert_exporter": "python",
   "pygments_lexer": "ipython3",
   "version": "3.5.1"
  }
 },
 "nbformat": 4,
 "nbformat_minor": 0
}
